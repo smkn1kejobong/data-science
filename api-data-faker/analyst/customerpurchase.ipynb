{
 "cells": [
  {
   "cell_type": "code",
   "execution_count": null,
   "metadata": {},
   "outputs": [],
   "source": [
    "import requests\n",
    "import pandas as pd\n",
    "import numpy as np\n",
    "import matplotlib.pyplot as plt\n",
    "\n",
    "# Mengambil data dari API\n",
    "response = requests.get(\"http://localhost:3000/api/sales\")\n",
    "data = pd.read_json(response.text)\n",
    "\n",
    "# Mengubah kolom 'date' menjadi tipe datetime\n",
    "data['date'] = pd.to_datetime(data['date'])\n",
    "\n",
    "# Filter data berdasarkan rentang tanggal\n",
    "tanggal_awal = '2024-01-01'\n",
    "tanggal_akhir = '2024-03-31'\n",
    "data_filter = data[(data['date'] >= tanggal_awal) & (data['date'] <= tanggal_akhir)]\n",
    "\n",
    "# Mengelompokkan data berdasarkan customer dan menghitung total pembelian\n",
    "data_grouped = data_filter.groupby('customer')['quantity'].sum().sort_values(ascending=False).reset_index()\n",
    "\n",
    "# Membuat grafik batang\n",
    "plt.figure(figsize=(12, 6))\n",
    "bars = plt.bar(data_grouped['customer'], data_grouped['quantity'])\n",
    "plt.xlabel(\"Customer\")\n",
    "plt.ylabel(\"Total Pembelian\")\n",
    "plt.title(f\"Analisis Pembelian Customer ({tanggal_awal} sampai {tanggal_akhir})\")\n",
    "\n",
    "# Menambahkan label jumlah pada setiap batang\n",
    "for bar in bars:\n",
    "    height = bar.get_height()\n",
    "    plt.text(bar.get_x() + bar.get_width()/2., height,\n",
    "             f'{height}', ha='center', va='bottom')\n",
    "\n",
    "plt.tight_layout()\n",
    "plt.show()\n",
    "\n",
    "# Menampilkan informasi barang yang paling banyak dan paling jarang dibeli\n",
    "barang_terlaris = data_filter.groupby('product')['quantity'].sum().sort_values(ascending=False)\n",
    "print(\"Barang yang paling banyak dibeli:\")\n",
    "print(barang_terlaris.head(1))\n",
    "print(\"\\nBarang yang paling jarang dibeli:\")\n",
    "print(barang_terlaris.tail(1))"
   ]
  }
 ],
 "metadata": {
  "kernelspec": {
   "display_name": "Python 3",
   "language": "python",
   "name": "python3"
  },
  "language_info": {
   "codemirror_mode": {
    "name": "ipython",
    "version": 3
   },
   "file_extension": ".py",
   "mimetype": "text/x-python",
   "name": "python",
   "nbconvert_exporter": "python",
   "pygments_lexer": "ipython3",
   "version": "3.10.6"
  }
 },
 "nbformat": 4,
 "nbformat_minor": 2
}
